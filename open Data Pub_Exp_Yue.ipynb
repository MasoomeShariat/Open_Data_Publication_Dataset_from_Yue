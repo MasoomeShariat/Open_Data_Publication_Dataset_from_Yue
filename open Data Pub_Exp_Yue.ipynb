{
 "cells": [
  {
   "cell_type": "markdown",
   "id": "10928b42-0a34-496a-943a-f015e62b6621",
   "metadata": {},
   "source": [
    "# Open Data Publication Example Using Yue Dataset"
   ]
  },
  {
   "cell_type": "markdown",
   "id": "7e7c2ff9-1010-4b48-8927-b3462b1a0a30",
   "metadata": {},
   "source": [
    "Steps:\n",
    "- Create data folder (check to create the folder if it does not exist)\n",
    "- Download data from web to the folder (if the file was not downloaded before)\n",
    "- Read the data using Pandas"
   ]
  },
  {
   "cell_type": "code",
   "execution_count": null,
   "id": "8f9f47ef-2604-4be0-8183-0390d6f3fa02",
   "metadata": {},
   "outputs": [],
   "source": [
    "!pip install pyDataverse\n",
    "!pip install matplotlib\n",
    "!pip install gdal\n",
    "!pip install rasterio"
   ]
  },
  {
   "cell_type": "markdown",
   "id": "ec572a0c-5836-4f17-b991-3e471d6ba250",
   "metadata": {},
   "source": [
    "# Download Data"
   ]
  },
  {
   "cell_type": "markdown",
   "id": "c918e670-194b-47af-ac46-3f7105d664b1",
   "metadata": {},
   "source": [
    "first we create a data folder"
   ]
  },
  {
   "cell_type": "code",
   "execution_count": null,
   "id": "52bba950-e766-429c-b21e-bcd0f4d10619",
   "metadata": {},
   "outputs": [],
   "source": [
    "import os\n",
    "path = \"data\"\n",
    "if not os.path.exists(path):\n",
    "  os.makedirs(path)\n",
    "  print(f\"{path} directory was created!\")"
   ]
  },
  {
   "cell_type": "markdown",
   "id": "8341cbf6-d06f-4c01-bee6-51f7507d0faf",
   "metadata": {},
   "source": [
    "Download data to the folder"
   ]
  },
  {
   "cell_type": "code",
   "execution_count": null,
   "id": "9b2ce338-2358-40b1-ade2-350e366a64db",
   "metadata": {},
   "outputs": [],
   "source": [
    "from pyDataverse.api import NativeApi, DataAccessApi\n",
    "from pyDataverse.models import Dataverse\n",
    "\n",
    "Base_url = 'https://dataverse.nl/'\n",
    "\n",
    "Api = NativeApi(Base_url)\n",
    "Data_Api = DataAccessApi(Base_url)\n",
    "\n",
    "DOI = \"doi:10.34894/XNC5KA\"\n",
    "Dataset = Api.get_dataset(DOI) \n",
    "\n",
    "files_list = Dataset.json()['data']['latestVersion']['files']\n",
    "\n",
    "for file in files_list:\n",
    "    filename = file[\"dataFile\"][\"filename\"]\n",
    "    file_id = file[\"dataFile\"][\"id\"]\n",
    "    print(\"File name {}, id {}\".format(filename, file_id))\n",
    "\n",
    "    response = Data_Api.get_datafile(file_id)\n",
    "    with open(os.path.join(path, filename), \"wb\") as f:\n",
    "        f.write(response.content)"
   ]
  },
  {
   "cell_type": "markdown",
   "id": "5e02e578-a703-4047-a9b8-818f6b9d8629",
   "metadata": {},
   "source": [
    "# Read and show the files"
   ]
  },
  {
   "cell_type": "code",
   "execution_count": null,
   "id": "cd488054-f95f-4699-9008-5ac1ff5238ef",
   "metadata": {},
   "outputs": [],
   "source": [
    "\n",
    "\n",
    "import matplotlib.pyplot as plt\n",
    "rf = plt.imread(os.path.join(path, \"EU_landSystem.tif\"))\n",
    "plt.imshow(rf)"
   ]
  },
  {
   "cell_type": "markdown",
   "id": "ff687456-56cf-4f07-b7a2-e2cb3ab29d7c",
   "metadata": {},
   "source": [
    "# Provide the colormap"
   ]
  },
  {
   "cell_type": "code",
   "execution_count": null,
   "id": "3a12a9b2-4a5a-47a9-9667-c884286d8d8c",
   "metadata": {},
   "outputs": [],
   "source": [
    "import rasterio\n",
    "import csv\n",
    "import os.path\n",
    "import sys\n",
    "import numpy as np\n",
    "\n",
    "\n",
    "def get_colormap(fn):\n",
    "    if not os.path.exists(fn):\n",
    "        raise IOError(\"File not found!\")\n",
    "    with open(fn, \"r\") as cf:\n",
    "        colormgr = csv.reader(cf, delimiter=' ')\n",
    "        result = {}\n",
    "        for row in colormgr:\n",
    "            color = tuple([int(row[1]), int(row[2]), int(row[3])])\n",
    "            result[int(row[0])] = color\n",
    "    return result\n",
    "\n",
    "\n",
    "with rasterio.open(os.path.join(path, \"EU_landSystem.tif\")) as rf:\n",
    "    # Retrieve some particulars of the input file\n",
    "    data = rf.read(1)\n",
    "    meta = rf.meta\n",
    "\n",
    "    # Get the color map\n",
    "    cmap = get_colormap(os.path.join(path, \"EU_landSystem.clr\"))\n",
    "    cmap[255] = (255, 255, 255)\n",
    "    \n",
    "    meta[\"dtype\"] = 'uint8'\n",
    "    meta['driver'] = 'GTiff'\n",
    "    meta[\"nodata\"] = 255\n",
    "\n",
    "    # Write the GeoTIFF to file\n",
    "    with rasterio.open(os.path.join(path, \"output.tif\"), \"w\", **meta) as tf: \n",
    "        tf.nodata = 255\n",
    "        tf.write(data, indexes=1)\n",
    "        tf.write_colormap(1, cmap)\n",
    "        "
   ]
  },
  {
   "cell_type": "code",
   "execution_count": null,
   "id": "42e5e04e-c7df-4c9d-9bdc-0895c2ee31cc",
   "metadata": {},
   "outputs": [],
   "source": [
    "img = plt.imread(os.path.join(path, \"output.tif\"))\n",
    "plt.imshow(img)"
   ]
  }
 ],
 "metadata": {
  "kernelspec": {
   "display_name": "Python",
   "language": "python",
   "name": "python3"
  },
  "language_info": {
   "codemirror_mode": {
    "name": "ipython",
    "version": 3
   },
   "file_extension": ".py",
   "mimetype": "text/x-python",
   "name": "python",
   "nbconvert_exporter": "python",
   "pygments_lexer": "ipython3",
   "version": "3.8.10"
  }
 },
 "nbformat": 4,
 "nbformat_minor": 5
}
